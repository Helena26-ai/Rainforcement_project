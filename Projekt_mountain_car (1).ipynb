{
  "nbformat": 4,
  "nbformat_minor": 0,
  "metadata": {
    "colab": {
      "provenance": [],
      "gpuType": "T4"
    },
    "kernelspec": {
      "name": "python3",
      "display_name": "Python 3"
    },
    "language_info": {
      "name": "python"
    },
    "accelerator": "GPU"
  },
  "cells": [
    {
      "cell_type": "code",
      "source": [
        "# =============================\n",
        "# 🛠 SETUP\n",
        "# =============================\n",
        "#!pip install gym[atari] ale-py torch torchvision opencv-python --quiet\n",
        "\n",
        "import gymnasium as gym\n",
        "import ale_py\n",
        "from tqdm.notebook import tqdm\n",
        "from tqdm import tqdm\n",
        "import random\n",
        "import numpy as np\n",
        "import torch\n",
        "import torch.nn as nn\n",
        "import torch.optim as optim\n",
        "import cv2\n",
        "from collections import deque\n",
        "from ale_py import ALEInterface, roms\n",
        "import time\n",
        "import matplotlib.pyplot as plt\n"
      ],
      "metadata": {
        "id": "tv1KHPQRcVNA"
      },
      "execution_count": 11,
      "outputs": []
    },
    {
      "cell_type": "code",
      "source": [
        "device = torch.device(\"cuda\" if torch.cuda.is_available() else \"cpu\")\n",
        "print(f\"Using device: {device}\")\n",
        "\n",
        "# =============================\n",
        "# 🎮 ENVIRONMENT\n",
        "# =============================\n",
        "ale = ALEInterface()\n",
        "#ale.loadROM(roms.get_rom_path(\"breakout\"))\n",
        "env = gym.make(\"MountainCar-v0\")"
      ],
      "metadata": {
        "colab": {
          "base_uri": "https://localhost:8080/"
        },
        "id": "iCzeP-RLcWyl",
        "outputId": "ad2064fd-4600-4852-8421-769123a41255"
      },
      "execution_count": 12,
      "outputs": [
        {
          "output_type": "stream",
          "name": "stdout",
          "text": [
            "Using device: cuda\n"
          ]
        }
      ]
    },
    {
      "cell_type": "code",
      "source": [
        "# Define the MLP Network\n",
        "class DQN(nn.Module):\n",
        "    def __init__(self, state_dim, action_dim):\n",
        "        super(DQN, self).__init__()\n",
        "        self.fc1 = nn.Linear(state_dim, 128)\n",
        "        self.fc2 = nn.Linear(128, 128)\n",
        "        self.fc3 = nn.Linear(128, action_dim)\n",
        "\n",
        "    def forward(self, x):\n",
        "        x = torch.relu(self.fc1(x))\n",
        "        x = torch.relu(self.fc2(x))\n",
        "        return self.fc3(x)"
      ],
      "metadata": {
        "id": "8x0JqtYPpRqh"
      },
      "execution_count": 13,
      "outputs": []
    },
    {
      "cell_type": "code",
      "source": [
        "# =============================\n",
        "# 🧹 PREPROCESS FRAME\n",
        "# =============================\n",
        "def preprocess_frame(frame):\n",
        "    frame = cv2.cvtColor(frame, cv2.COLOR_RGB2GRAY)\n",
        "    frame = cv2.resize(frame, (84, 84))\n",
        "    return frame"
      ],
      "metadata": {
        "id": "zf6ONaQkcek_"
      },
      "execution_count": 14,
      "outputs": []
    },
    {
      "cell_type": "code",
      "source": [
        "# JEŚLI KONTYNUUJEMY UCZENIE (jak trenujecie od zera do nie klikajcie)\n",
        "\n",
        "# Rebuild the model architecture\n",
        "policy_net = DQN(env.action_space.n).to(device)\n",
        "\n",
        "# Load saved weights\n",
        "policy_net.load_state_dict(torch.load(\"breakout_dqn.pth\"))\n",
        "policy_net.to(device)\n",
        "\n",
        "# (Optional) Recreate the optimizer\n",
        "optimizer = optim.Adam(policy_net.parameters(), lr=1e-3)\n"
      ],
      "metadata": {
        "id": "3Mp_Y2YtiDSB"
      },
      "execution_count": null,
      "outputs": []
    },
    {
      "cell_type": "code",
      "source": [
        "# pobiera plik\n",
        "from google.colab import files\n",
        "files.download(\"breakout_dqn_2.pth\")"
      ],
      "metadata": {
        "colab": {
          "base_uri": "https://localhost:8080/",
          "height": 17
        },
        "id": "NEtPh4PLgzuZ",
        "outputId": "bb0b83f2-1513-45bd-fa00-22ced98f9c76"
      },
      "execution_count": null,
      "outputs": [
        {
          "output_type": "display_data",
          "data": {
            "text/plain": [
              "<IPython.core.display.Javascript object>"
            ],
            "application/javascript": [
              "\n",
              "    async function download(id, filename, size) {\n",
              "      if (!google.colab.kernel.accessAllowed) {\n",
              "        return;\n",
              "      }\n",
              "      const div = document.createElement('div');\n",
              "      const label = document.createElement('label');\n",
              "      label.textContent = `Downloading \"${filename}\": `;\n",
              "      div.appendChild(label);\n",
              "      const progress = document.createElement('progress');\n",
              "      progress.max = size;\n",
              "      div.appendChild(progress);\n",
              "      document.body.appendChild(div);\n",
              "\n",
              "      const buffers = [];\n",
              "      let downloaded = 0;\n",
              "\n",
              "      const channel = await google.colab.kernel.comms.open(id);\n",
              "      // Send a message to notify the kernel that we're ready.\n",
              "      channel.send({})\n",
              "\n",
              "      for await (const message of channel.messages) {\n",
              "        // Send a message to notify the kernel that we're ready.\n",
              "        channel.send({})\n",
              "        if (message.buffers) {\n",
              "          for (const buffer of message.buffers) {\n",
              "            buffers.push(buffer);\n",
              "            downloaded += buffer.byteLength;\n",
              "            progress.value = downloaded;\n",
              "          }\n",
              "        }\n",
              "      }\n",
              "      const blob = new Blob(buffers, {type: 'application/binary'});\n",
              "      const a = document.createElement('a');\n",
              "      a.href = window.URL.createObjectURL(blob);\n",
              "      a.download = filename;\n",
              "      div.appendChild(a);\n",
              "      a.click();\n",
              "      div.remove();\n",
              "    }\n",
              "  "
            ]
          },
          "metadata": {}
        },
        {
          "output_type": "display_data",
          "data": {
            "text/plain": [
              "<IPython.core.display.Javascript object>"
            ],
            "application/javascript": [
              "download(\"download_64b7f204-4e57-4219-a740-f4c349ed0c2d\", \"breakout_dqn_2.pth\", 6748634)"
            ]
          },
          "metadata": {}
        }
      ]
    },
    {
      "cell_type": "code",
      "source": [
        "\n",
        "# Experience Replay Buffer\n",
        "class ReplayBuffer:\n",
        "    def __init__(self, capacity):\n",
        "        self.buffer = deque(maxlen=capacity)\n",
        "\n",
        "    def push(self, state, action, reward, next_state, done):\n",
        "        self.buffer.append((state, action, reward, next_state, done))\n",
        "\n",
        "    def sample(self, batch_size):\n",
        "        batch = random.sample(self.buffer, batch_size)\n",
        "        state, action, reward, next_state, done = map(np.array, zip(*batch))\n",
        "        return state, action, reward, next_state, done\n",
        "\n",
        "    def __len__(self):\n",
        "        return len(self.buffer)\n",
        "\n",
        "# Training function\n",
        "def train_mountaincar(num_episodes=5000):\n",
        "    env = gym.make(\"MountainCar-v0\")\n",
        "    state_dim = env.observation_space.shape[0]\n",
        "    action_dim = env.action_space.n\n",
        "\n",
        "    policy_net = DQN(state_dim, action_dim).to(device)\n",
        "\n",
        "    ###################################################################\n",
        "    # HIPERPARAMETRY\n",
        "    ###################################################################\n",
        "    optimizer = optim.Adam(policy_net.parameters(), lr=1e-3)\n",
        "    replay_buffer = ReplayBuffer(10000)\n",
        "    batch_size = 64\n",
        "    gamma = 0.99  # Discount factor\n",
        "    epsilon_start = 1.0\n",
        "    epsilon_final = 0.01\n",
        "    epsilon_decay = 1000\n",
        "    ###################################################################\n",
        "\n",
        "    def epsilon_by_episode(episode):\n",
        "        return epsilon_final + (epsilon_start - epsilon_final) * np.exp(-1. * episode / epsilon_decay)\n",
        "\n",
        "    all_rewards = []\n",
        "\n",
        "    for episode in tqdm(range(num_episodes), desc=\"Training Episodes\", unit=\"episode\"):\n",
        "        start_time = time.time()\n",
        "        state, _ = env.reset()  # Fix: unpack both state and info\n",
        "        total_reward = 0\n",
        "        done = False\n",
        "        epsilon = epsilon_by_episode(episode)\n",
        "\n",
        "        while not done:\n",
        "            if random.random() < epsilon:\n",
        "                action = env.action_space.sample()\n",
        "            else:\n",
        "                state_tensor = torch.FloatTensor(state).unsqueeze(0).to(device)\n",
        "                q_values = policy_net(state_tensor)\n",
        "                action = q_values.max(1)[1].item()\n",
        "\n",
        "            next_state, reward, terminated, truncated, _ = env.step(action)\n",
        "            done = terminated or truncated\n",
        "            replay_buffer.push(state, action, reward, next_state, done)\n",
        "            state = next_state\n",
        "            total_reward += reward\n",
        "\n",
        "            if len(replay_buffer) > batch_size:\n",
        "                states, actions, rewards, next_states, dones = replay_buffer.sample(batch_size)\n",
        "\n",
        "                states = torch.FloatTensor(states).to(device)\n",
        "                actions = torch.LongTensor(actions).to(device)\n",
        "                rewards = torch.FloatTensor(rewards).to(device)\n",
        "                next_states = torch.FloatTensor(next_states).to(device)\n",
        "                dones = torch.FloatTensor(dones).to(device)\n",
        "\n",
        "                q_values = policy_net(states)\n",
        "                next_q_values = policy_net(next_states)\n",
        "\n",
        "                q_value = q_values.gather(1, actions.unsqueeze(1)).squeeze(1)\n",
        "                next_q_value = next_q_values.max(1)[0]\n",
        "                expected_q_value = rewards + gamma * next_q_value * (1 - dones)\n",
        "\n",
        "                loss = (q_value - expected_q_value.detach()).pow(2).mean()\n",
        "\n",
        "                optimizer.zero_grad()\n",
        "                loss.backward()\n",
        "                optimizer.step()\n",
        "\n",
        "        all_rewards.append(total_reward)\n",
        "        episode_time = time.time() - start_time\n",
        "        tqdm.write(f\"Episode {episode+1}/{num_episodes} — Reward: {total_reward:.2f} — Epsilon: {epsilon:.3f} — Time: {episode_time:.2f} sec\")\n",
        "\n",
        "    env.close()\n",
        "\n",
        "    # Save the model\n",
        "    torch.save(policy_net.state_dict(), \"mountaincar_dqn_test.pth\") # podmieńcie nazwę na taką jak chcecie\n",
        "    print(\"Training finished ✅ — Model saved as 'mountaincar_dqn_test.pth'\")\n",
        "\n",
        "    return all_rewards\n",
        "\n",
        "# Start training\n",
        "# !!!!!!!!!!!!!!!!!!!!!!!!!!!!!!!!!!!!!!!!\n",
        "all_rewards = train_mountaincar(num_episodes=20) # bierzcie minimum 5000 (w 30 min powinno dać rade, ustawcie środowisko wykonawcze T4-mega ważne)\n",
        "# !!!!!!!!!!!!!!!!!!!!!!!!!!!!!!!!!!!!!!!!\n",
        "\n",
        "# Plot rewards\n",
        "plt.plot(all_rewards)\n",
        "plt.xlabel('Episode')\n",
        "plt.ylabel('Total Reward')\n",
        "plt.title('Training Reward Curve')\n",
        "plt.show()\n"
      ],
      "metadata": {
        "colab": {
          "base_uri": "https://localhost:8080/",
          "height": 854
        },
        "id": "RODOYHZ0wwgk",
        "outputId": "efdf52e2-d399-4de1-e3bb-448e8de8b63f"
      },
      "execution_count": 16,
      "outputs": [
        {
          "output_type": "stream",
          "name": "stderr",
          "text": [
            "Training Episodes:   5%|▌         | 1/20 [00:00<00:05,  3.59episode/s]"
          ]
        },
        {
          "output_type": "stream",
          "name": "stdout",
          "text": [
            "Episode 1/20 — Reward: -200.00 — Epsilon: 1.000 — Time: 0.27 sec\n"
          ]
        },
        {
          "output_type": "stream",
          "name": "stderr",
          "text": [
            "Training Episodes:  10%|█         | 2/20 [00:00<00:06,  2.76episode/s]"
          ]
        },
        {
          "output_type": "stream",
          "name": "stdout",
          "text": [
            "Episode 2/20 — Reward: -200.00 — Epsilon: 0.999 — Time: 0.42 sec\n"
          ]
        },
        {
          "output_type": "stream",
          "name": "stderr",
          "text": [
            "Training Episodes:  15%|█▌        | 3/20 [00:01<00:06,  2.59episode/s]"
          ]
        },
        {
          "output_type": "stream",
          "name": "stdout",
          "text": [
            "Episode 3/20 — Reward: -200.00 — Epsilon: 0.998 — Time: 0.41 sec\n"
          ]
        },
        {
          "output_type": "stream",
          "name": "stderr",
          "text": [
            "Training Episodes:  20%|██        | 4/20 [00:01<00:06,  2.54episode/s]"
          ]
        },
        {
          "output_type": "stream",
          "name": "stdout",
          "text": [
            "Episode 4/20 — Reward: -200.00 — Epsilon: 0.997 — Time: 0.40 sec\n"
          ]
        },
        {
          "output_type": "stream",
          "name": "stderr",
          "text": [
            "Training Episodes:  25%|██▌       | 5/20 [00:01<00:06,  2.47episode/s]"
          ]
        },
        {
          "output_type": "stream",
          "name": "stdout",
          "text": [
            "Episode 5/20 — Reward: -200.00 — Epsilon: 0.996 — Time: 0.42 sec\n"
          ]
        },
        {
          "output_type": "stream",
          "name": "stderr",
          "text": [
            "Training Episodes:  30%|███       | 6/20 [00:02<00:05,  2.46episode/s]"
          ]
        },
        {
          "output_type": "stream",
          "name": "stdout",
          "text": [
            "Episode 6/20 — Reward: -200.00 — Epsilon: 0.995 — Time: 0.41 sec\n"
          ]
        },
        {
          "output_type": "stream",
          "name": "stderr",
          "text": [
            "Training Episodes:  35%|███▌      | 7/20 [00:02<00:05,  2.42episode/s]"
          ]
        },
        {
          "output_type": "stream",
          "name": "stdout",
          "text": [
            "Episode 7/20 — Reward: -200.00 — Epsilon: 0.994 — Time: 0.42 sec\n"
          ]
        },
        {
          "output_type": "stream",
          "name": "stderr",
          "text": [
            "Training Episodes:  40%|████      | 8/20 [00:03<00:04,  2.43episode/s]"
          ]
        },
        {
          "output_type": "stream",
          "name": "stdout",
          "text": [
            "Episode 8/20 — Reward: -200.00 — Epsilon: 0.993 — Time: 0.40 sec\n"
          ]
        },
        {
          "output_type": "stream",
          "name": "stderr",
          "text": [
            "Training Episodes:  45%|████▌     | 9/20 [00:03<00:04,  2.44episode/s]"
          ]
        },
        {
          "output_type": "stream",
          "name": "stdout",
          "text": [
            "Episode 9/20 — Reward: -200.00 — Epsilon: 0.992 — Time: 0.40 sec\n"
          ]
        },
        {
          "output_type": "stream",
          "name": "stderr",
          "text": [
            "Training Episodes:  50%|█████     | 10/20 [00:04<00:04,  2.43episode/s]"
          ]
        },
        {
          "output_type": "stream",
          "name": "stdout",
          "text": [
            "Episode 10/20 — Reward: -200.00 — Epsilon: 0.991 — Time: 0.42 sec\n"
          ]
        },
        {
          "output_type": "stream",
          "name": "stderr",
          "text": [
            "Training Episodes:  55%|█████▌    | 11/20 [00:04<00:03,  2.43episode/s]"
          ]
        },
        {
          "output_type": "stream",
          "name": "stdout",
          "text": [
            "Episode 11/20 — Reward: -200.00 — Epsilon: 0.990 — Time: 0.41 sec\n"
          ]
        },
        {
          "output_type": "stream",
          "name": "stderr",
          "text": [
            "Training Episodes:  60%|██████    | 12/20 [00:04<00:03,  2.39episode/s]"
          ]
        },
        {
          "output_type": "stream",
          "name": "stdout",
          "text": [
            "Episode 12/20 — Reward: -200.00 — Epsilon: 0.989 — Time: 0.43 sec\n"
          ]
        },
        {
          "output_type": "stream",
          "name": "stderr",
          "text": [
            "Training Episodes:  65%|██████▌   | 13/20 [00:05<00:02,  2.40episode/s]"
          ]
        },
        {
          "output_type": "stream",
          "name": "stdout",
          "text": [
            "Episode 13/20 — Reward: -200.00 — Epsilon: 0.988 — Time: 0.40 sec\n"
          ]
        },
        {
          "output_type": "stream",
          "name": "stderr",
          "text": [
            "Training Episodes:  70%|███████   | 14/20 [00:05<00:02,  2.38episode/s]"
          ]
        },
        {
          "output_type": "stream",
          "name": "stdout",
          "text": [
            "Episode 14/20 — Reward: -200.00 — Epsilon: 0.987 — Time: 0.43 sec\n"
          ]
        },
        {
          "output_type": "stream",
          "name": "stderr",
          "text": [
            "Training Episodes:  75%|███████▌  | 15/20 [00:06<00:02,  2.37episode/s]"
          ]
        },
        {
          "output_type": "stream",
          "name": "stdout",
          "text": [
            "Episode 15/20 — Reward: -200.00 — Epsilon: 0.986 — Time: 0.42 sec\n"
          ]
        },
        {
          "output_type": "stream",
          "name": "stderr",
          "text": [
            "Training Episodes:  80%|████████  | 16/20 [00:06<00:01,  2.35episode/s]"
          ]
        },
        {
          "output_type": "stream",
          "name": "stdout",
          "text": [
            "Episode 16/20 — Reward: -200.00 — Epsilon: 0.985 — Time: 0.43 sec\n"
          ]
        },
        {
          "output_type": "stream",
          "name": "stderr",
          "text": [
            "Training Episodes:  85%|████████▌ | 17/20 [00:06<00:01,  2.35episode/s]"
          ]
        },
        {
          "output_type": "stream",
          "name": "stdout",
          "text": [
            "Episode 17/20 — Reward: -200.00 — Epsilon: 0.984 — Time: 0.42 sec\n"
          ]
        },
        {
          "output_type": "stream",
          "name": "stderr",
          "text": [
            "Training Episodes:  90%|█████████ | 18/20 [00:07<00:00,  2.37episode/s]"
          ]
        },
        {
          "output_type": "stream",
          "name": "stdout",
          "text": [
            "Episode 18/20 — Reward: -200.00 — Epsilon: 0.983 — Time: 0.41 sec\n"
          ]
        },
        {
          "output_type": "stream",
          "name": "stderr",
          "text": [
            "Training Episodes:  95%|█████████▌| 19/20 [00:07<00:00,  2.38episode/s]"
          ]
        },
        {
          "output_type": "stream",
          "name": "stdout",
          "text": [
            "Episode 19/20 — Reward: -200.00 — Epsilon: 0.982 — Time: 0.41 sec\n"
          ]
        },
        {
          "output_type": "stream",
          "name": "stderr",
          "text": [
            "Training Episodes: 100%|██████████| 20/20 [00:08<00:00,  2.43episode/s]"
          ]
        },
        {
          "output_type": "stream",
          "name": "stdout",
          "text": [
            "Episode 20/20 — Reward: -200.00 — Epsilon: 0.981 — Time: 0.42 sec\n",
            "Training finished ✅ — Model saved as 'mountaincar_dqn_test.pth'\n"
          ]
        },
        {
          "output_type": "stream",
          "name": "stderr",
          "text": [
            "\n"
          ]
        },
        {
          "output_type": "display_data",
          "data": {
            "text/plain": [
              "<Figure size 640x480 with 1 Axes>"
            ],
            "image/png": "[encoded data removed]"
          },
          "metadata": {}
        }
      ]
    },
    {
      "cell_type": "code",
      "source": [
        "# pobiera plik z wagami modelu (wrzuca do pobranych na kompie)\n",
        "from google.colab import files\n",
        "files.download(\"mountaincar_dqn_test.pth\")\n"
      ],
      "metadata": {
        "colab": {
          "base_uri": "https://localhost:8080/",
          "height": 17
        },
        "outputId": "cc3f5f6a-e210-4652-91e2-ddd8277a1787",
        "id": "B3oaBMpd5POO"
      },
      "execution_count": null,
      "outputs": [
        {
          "output_type": "display_data",
          "data": {
            "text/plain": [
              "<IPython.core.display.Javascript object>"
            ],
            "application/javascript": [
              "\n",
              "    async function download(id, filename, size) {\n",
              "      if (!google.colab.kernel.accessAllowed) {\n",
              "        return;\n",
              "      }\n",
              "      const div = document.createElement('div');\n",
              "      const label = document.createElement('label');\n",
              "      label.textContent = `Downloading \"${filename}\": `;\n",
              "      div.appendChild(label);\n",
              "      const progress = document.createElement('progress');\n",
              "      progress.max = size;\n",
              "      div.appendChild(progress);\n",
              "      document.body.appendChild(div);\n",
              "\n",
              "      const buffers = [];\n",
              "      let downloaded = 0;\n",
              "\n",
              "      const channel = await google.colab.kernel.comms.open(id);\n",
              "      // Send a message to notify the kernel that we're ready.\n",
              "      channel.send({})\n",
              "\n",
              "      for await (const message of channel.messages) {\n",
              "        // Send a message to notify the kernel that we're ready.\n",
              "        channel.send({})\n",
              "        if (message.buffers) {\n",
              "          for (const buffer of message.buffers) {\n",
              "            buffers.push(buffer);\n",
              "            downloaded += buffer.byteLength;\n",
              "            progress.value = downloaded;\n",
              "          }\n",
              "        }\n",
              "      }\n",
              "      const blob = new Blob(buffers, {type: 'application/binary'});\n",
              "      const a = document.createElement('a');\n",
              "      a.href = window.URL.createObjectURL(blob);\n",
              "      a.download = filename;\n",
              "      div.appendChild(a);\n",
              "      a.click();\n",
              "      div.remove();\n",
              "    }\n",
              "  "
            ]
          },
          "metadata": {}
        },
        {
          "output_type": "display_data",
          "data": {
            "text/plain": [
              "<IPython.core.display.Javascript object>"
            ],
            "application/javascript": [
              "download(\"download_588f626d-fe2f-4de5-ae37-21c6d6f8a7c9\", \"mountaincar_dqn.pth\", 71832)"
            ]
          },
          "metadata": {}
        }
      ]
    },
    {
      "cell_type": "code",
      "source": [
        "# ładuje model i odpala i nagrywa filmik z gry rozegranej przez model, (wrzućcie plik z modelem (.pth) do colaba)\n",
        "import imageio\n",
        "\n",
        "# Create the environment\n",
        "env = gym.make(\"MountainCar-v0\", render_mode='rgb_array')  # Specify render_mode\n",
        "state_dim = env.observation_space.shape[0]\n",
        "action_dim = env.action_space.n\n",
        "state, _ = env.reset()  # Reset the environment\n",
        "done = False\n",
        "total_reward = 0\n",
        "frames = []\n",
        "\n",
        "# Load the trained model\n",
        "policy_net = DQN(state_dim, action_dim).to(device)\n",
        "policy_net.load_state_dict(torch.load(\"mountaincar_dqn.pth\"))\n",
        "policy_net.eval()  # Set the model to evaluation mode\n",
        "\n",
        "# Play the game using the trained model\n",
        "while not done:\n",
        "    # Get action from the model\n",
        "    state_tensor = torch.FloatTensor(state).unsqueeze(0).to(device)\n",
        "    q_values = policy_net(state_tensor)\n",
        "    action = q_values.max(1)[1].item()\n",
        "\n",
        "    # Perform the action\n",
        "    next_state, reward, terminated, truncated, info = env.step(action)\n",
        "    done = terminated or truncated\n",
        "\n",
        "    total_reward += reward\n",
        "\n",
        "    # Capture the frame (make sure it's in RGB format for saving)\n",
        "    frames.append(env.render())  # This returns an RGB frame now\n",
        "    state = next_state\n",
        "\n",
        "env.close()\n",
        "\n",
        "# Save the frames as a video\n",
        "output_filename = \"mountaincar_gameplay.mp4\"\n",
        "with imageio.get_writer(output_filename, fps=30) as writer:\n",
        "    for frame in frames:\n",
        "        writer.append_data(frame)\n",
        "\n",
        "print(f\"Video saved to {output_filename}\")\n",
        "print(f\"Total reward: {total_reward}\")\n"
      ],
      "metadata": {
        "colab": {
          "base_uri": "https://localhost:8080/"
        },
        "id": "ZJr0dPGJ6Ovd",
        "outputId": "fa8f8c54-2ee9-4aef-c568-4ceea06c6f2a"
      },
      "execution_count": 17,
      "outputs": [
        {
          "output_type": "stream",
          "name": "stderr",
          "text": [
            "WARNING:imageio_ffmpeg:IMAGEIO FFMPEG_WRITER WARNING: input image is not divisible by macro_block_size=16, resizing from (600, 400) to (608, 400) to ensure video compatibility with most codecs and players. To prevent resizing, make your input image divisible by the macro_block_size or set the macro_block_size to 1 (risking incompatibility).\n"
          ]
        },
        {
          "output_type": "stream",
          "name": "stdout",
          "text": [
            "Video saved to mountaincar_gameplay.mp4\n",
            "Total reward: -175.0\n"
          ]
        }
      ]
    },
    {
      "cell_type": "markdown",
      "source": [
        "# Nowa sekcja"
      ],
      "metadata": {
        "id": "Uni9MbYGT5ci"
      }
    },
    {
      "cell_type": "code",
      "source": [
        "# Pobiera na kompa filmik z gry i wrzuca do pobranych\n",
        "from google.colab import files\n",
        "# Download the saved video\n",
        "files.download(\"/content/mountaincar_gameplay_test.mp4\")\n"
      ],
      "metadata": {
        "colab": {
          "base_uri": "https://localhost:8080/",
          "height": 17
        },
        "id": "iii8tX4J6rjq",
        "outputId": "4fe34ae1-7973-4fe1-fd5c-0679bae72312"
      },
      "execution_count": null,
      "outputs": [
        {
          "output_type": "display_data",
          "data": {
            "text/plain": [
              "<IPython.core.display.Javascript object>"
            ],
            "application/javascript": [
              "\n",
              "    async function download(id, filename, size) {\n",
              "      if (!google.colab.kernel.accessAllowed) {\n",
              "        return;\n",
              "      }\n",
              "      const div = document.createElement('div');\n",
              "      const label = document.createElement('label');\n",
              "      label.textContent = `Downloading \"${filename}\": `;\n",
              "      div.appendChild(label);\n",
              "      const progress = document.createElement('progress');\n",
              "      progress.max = size;\n",
              "      div.appendChild(progress);\n",
              "      document.body.appendChild(div);\n",
              "\n",
              "      const buffers = [];\n",
              "      let downloaded = 0;\n",
              "\n",
              "      const channel = await google.colab.kernel.comms.open(id);\n",
              "      // Send a message to notify the kernel that we're ready.\n",
              "      channel.send({})\n",
              "\n",
              "      for await (const message of channel.messages) {\n",
              "        // Send a message to notify the kernel that we're ready.\n",
              "        channel.send({})\n",
              "        if (message.buffers) {\n",
              "          for (const buffer of message.buffers) {\n",
              "            buffers.push(buffer);\n",
              "            downloaded += buffer.byteLength;\n",
              "            progress.value = downloaded;\n",
              "          }\n",
              "        }\n",
              "      }\n",
              "      const blob = new Blob(buffers, {type: 'application/binary'});\n",
              "      const a = document.createElement('a');\n",
              "      a.href = window.URL.createObjectURL(blob);\n",
              "      a.download = filename;\n",
              "      div.appendChild(a);\n",
              "      a.click();\n",
              "      div.remove();\n",
              "    }\n",
              "  "
            ]
          },
          "metadata": {}
        },
        {
          "output_type": "display_data",
          "data": {
            "text/plain": [
              "<IPython.core.display.Javascript object>"
            ],
            "application/javascript": [
              "download(\"download_f9bc58d8-e3f4-4ebc-b13a-8cef35fc9e9c\", \"mountaincar_gameplay.mp4\", 39278)"
            ]
          },
          "metadata": {}
        }
      ]
    }
  ]
}