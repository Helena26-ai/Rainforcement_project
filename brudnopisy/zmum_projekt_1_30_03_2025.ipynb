{
  "nbformat": 4,
  "nbformat_minor": 0,
  "metadata": {
    "colab": {
      "provenance": [],
      "authorship_tag": "ABX9TyNed0sV1qebxtxWKRwby09r",
      "include_colab_link": true
    },
    "kernelspec": {
      "name": "python3",
      "display_name": "Python 3"
    },
    "language_info": {
      "name": "python"
    }
  },
  "cells": [
    {
      "cell_type": "markdown",
      "metadata": {
        "id": "view-in-github",
        "colab_type": "text"
      },
      "source": [
        "<a href=\"https://colab.research.google.com/github/Helena26-ai/Rainforcement_project/blob/Aliaksei/brudnopisy/zmum_projekt_1_30_03_2025.ipynb\" target=\"_parent\"><img src=\"https://colab.research.google.com/assets/colab-badge.svg\" alt=\"Open In Colab\"/></a>"
      ]
    },
    {
      "cell_type": "code",
      "source": [
        "# pobieramy portzebne pakiety\n",
        "\n",
        "#!pip install swig\n",
        "#!pip install \"gymnasium[box2d]\"\n",
        "import gymnasium as gym\n",
        "import matplotlib.pyplot as plt\n",
        "import imageio\n",
        "from IPython.display import Image"
      ],
      "metadata": {
        "id": "I2bf8eYXY9Cm"
      },
      "execution_count": null,
      "outputs": []
    },
    {
      "cell_type": "code",
      "execution_count": null,
      "metadata": {
        "id": "P5aHIBILYAjc"
      },
      "outputs": [],
      "source": [
        "# kod z https://gymnasium.farama.org/introduction/basic_usage/\n",
        "\n",
        "env = gym.make(\"LunarLander-v3\", render_mode=\"human\")\n",
        "observation, info = env.reset()\n",
        "\n",
        "episode_over = False\n",
        "while not episode_over:\n",
        "    action = env.action_space.sample()  # agent policy that uses the observation and info\n",
        "    observation, reward, terminated, truncated, info = env.step(action)\n",
        "\n",
        "    episode_over = terminated or truncated\n",
        "\n",
        "env.close()\n",
        "\n",
        "# nie dziala :))) bo colab nie ma gui"
      ]
    },
    {
      "cell_type": "code",
      "source": [
        "# rozwiazanie od chatgpt\n",
        "\n",
        "env = gym.make(\"LunarLander-v3\", render_mode=\"rgb_array\")  # Не \"v3\", а \"v2\"\n",
        "observation, info = env.reset()\n",
        "\n",
        "frames = []\n",
        "\n",
        "episode_over = False\n",
        "while not episode_over:\n",
        "    action = env.action_space.sample()\n",
        "    observation, reward, terminated, truncated, info = env.step(action)\n",
        "\n",
        "    frames.append(env.render())\n",
        "\n",
        "    episode_over = terminated or truncated\n",
        "\n",
        "env.close()\n",
        "\n",
        "# frames - lista obrazkow, kazdy mozna otworzyc osobno:\n",
        "\n",
        "fig, ax = plt.subplots(figsize=(5, 5))\n",
        "ax.imshow(frames[0])\n",
        "plt.axis(\"off\")\n",
        "plt.show()\n"
      ],
      "metadata": {
        "colab": {
          "base_uri": "https://localhost:8080/",
          "height": 295
        },
        "id": "UOifBWsXbQaa",
        "outputId": "2462adb8-ed38-41b1-c666-8cc37c9f0cb7"
      },
      "execution_count": null,
      "outputs": [
        {
          "output_type": "display_data",
          "data": {
            "text/plain": [
              "<Figure size 500x500 with 1 Axes>"
            ],
            "image/png": "[encoded data removed]"
          },
          "metadata": {}
        }
      ]
    },
    {
      "cell_type": "code",
      "source": [
        "ffig, ax = plt.subplots(figsize=(5, 5))\n",
        "ax.imshow(frames[40])\n",
        "plt.axis(\"off\")\n",
        "plt.show()"
      ],
      "metadata": {
        "colab": {
          "base_uri": "https://localhost:8080/",
          "height": 295
        },
        "id": "9RarZH6ZbbBs",
        "outputId": "71c284ee-6bf6-49cf-e026-ea702e260149"
      },
      "execution_count": null,
      "outputs": [
        {
          "output_type": "display_data",
          "data": {
            "text/plain": [
              "<Figure size 500x500 with 1 Axes>"
            ],
            "image/png": "[encoded data removed]"
          },
          "metadata": {}
        }
      ]
    },
    {
      "cell_type": "code",
      "source": [
        "# rowniez mozna stworzyc sobie gifa i go pobrac\n",
        "gif_path = \"/content/lunar_lander.gif\"\n",
        "imageio.mimsave(gif_path, frames, duration=12)\n",
        "Image(gif_path)"
      ],
      "metadata": {
        "id": "-K_F5dRBefJU"
      },
      "execution_count": null,
      "outputs": []
    },
    {
      "cell_type": "code",
      "source": [],
      "metadata": {
        "id": "wRxODh-YikRh"
      },
      "execution_count": null,
      "outputs": []
    }
  ]
}