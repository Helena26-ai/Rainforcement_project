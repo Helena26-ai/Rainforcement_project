{
  "nbformat": 4,
  "nbformat_minor": 0,
  "metadata": {
    "colab": {
      "provenance": [],
      "authorship_tag": "ABX9TyOrfkMeDagUwv/ZARfvuWUW",
      "include_colab_link": true
    },
    "kernelspec": {
      "name": "python3",
      "display_name": "Python 3"
    },
    "language_info": {
      "name": "python"
    }
  },
  "cells": [
    {
      "cell_type": "markdown",
      "metadata": {
        "id": "view-in-github",
        "colab_type": "text"
      },
      "source": [
        "<a href=\"https://colab.research.google.com/github/Helena26-ai/Rainforcement_project/blob/Helena/test1.ipynb\" target=\"_parent\"><img src=\"https://colab.research.google.com/assets/colab-badge.svg\" alt=\"Open In Colab\"/></a>"
      ]
    },
    {
      "cell_type": "code",
      "execution_count": null,
      "metadata": {
        "id": "27S52MgGkQgG"
      },
      "outputs": [],
      "source": [
        "# zmiana zmiana\n",
        "import random\n",
        "from typing import List\n",
        "\n",
        "\n",
        "class Environment:\n",
        "    def __init__(self):\n",
        "        self.steps_left = 10\n",
        "\n",
        "    def get_observation(self) -> List[float]:\n",
        "        return [0.0, 0.0, 0.0]\n",
        "\n",
        "    def get_actions(self) -> List[int]:\n",
        "        return [0, 1]\n",
        "\n",
        "    def is_done(self) -> bool:\n",
        "        return self.steps_left == 0\n",
        "\n",
        "    def action(self, action: int) -> float:\n",
        "        if self.is_done():\n",
        "            raise Exception(\"Game is over\")\n",
        "        self.steps_left -= 1\n",
        "        return random.random()"
      ]
    },
    {
      "cell_type": "code",
      "source": [
        "class Agent:\n",
        "    def __init__(self):\n",
        "        self.total_reward = 0.0\n",
        "\n",
        "    def step(self, env: Environment):\n",
        "        current_obs = env.get_observation()\n",
        "        actions = env.get_actions()\n",
        "        reward = env.action(random.choice(actions))\n",
        "        self.total_reward += reward\n",
        "\n",
        "\n",
        "if __name__ == \"__main__\":\n",
        "    env = Environment()\n",
        "    agent = Agent()\n",
        "\n",
        "    while not env.is_done():\n",
        "        agent.step(env)\n",
        "\n",
        "    print(\"Total reward got: %.4f\" % agent.total_reward)"
      ],
      "metadata": {
        "id": "rIrHe416kY51"
      },
      "execution_count": null,
      "outputs": []
    }
  ]
}